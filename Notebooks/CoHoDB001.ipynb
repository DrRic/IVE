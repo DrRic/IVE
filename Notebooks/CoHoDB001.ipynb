{
 "cells": [
  {
   "cell_type": "code",
   "execution_count": 10,
   "metadata": {},
   "outputs": [],
   "source": [
    "token = 'r8aV3LImE29EiLrM-PUHLvhXQ8SnkmEpxjGwGCbK'\n",
    "pw = ''\n",
    "base_url = 'https://api.companieshouse.gov.uk'"
   ]
  },
  {
   "cell_type": "code",
   "execution_count": 11,
   "metadata": {},
   "outputs": [],
   "source": [
    "import requests\n",
    "import json"
   ]
  },
  {
   "cell_type": "code",
   "execution_count": 12,
   "metadata": {},
   "outputs": [],
   "source": [
    "base = 'https://api.companieshouse.gov.uk'\n"
   ]
  },
  {
   "cell_type": "code",
   "execution_count": 13,
   "metadata": {},
   "outputs": [
    {
     "name": "stdout",
     "output_type": "stream",
     "text": [
      "https://api.companieshouse.gov.uk/company/00060066\n"
     ]
    }
   ],
   "source": [
    "co_number='00060066'\n",
    "search_url =base+'/company/'+co_number\n",
    "print(search_url)"
   ]
  },
  {
   "cell_type": "code",
   "execution_count": 14,
   "metadata": {},
   "outputs": [
    {
     "name": "stdout",
     "output_type": "stream",
     "text": [
      "ok\n"
     ]
    }
   ],
   "source": [
    "retrive  = requests.get(search_url, auth=(token,pw))\n",
    "if retrive.status_code ==200:\n",
    "    company = json.loads(retrive.text)\n",
    "    print(\"ok\")\n",
    "if retrive.status_code ==429:\n",
    "    print(\".\",end=\"\")\n",
    "    time.sleep(20)\n",
    "if retrive.status_code ==404:\n",
    "    print(url,\"not found\")"
   ]
  },
  {
   "cell_type": "code",
   "execution_count": 15,
   "metadata": {},
   "outputs": [
    {
     "data": {
      "text/plain": [
       "{'accounts': {'next_made_up_to': '2018-09-30',\n",
       "  'next_accounts': {'overdue': False,\n",
       "   'due_on': '2019-06-30',\n",
       "   'period_end_on': '2018-09-30',\n",
       "   'period_start_on': '2017-10-01'},\n",
       "  'overdue': False,\n",
       "  'last_accounts': {'made_up_to': '2017-09-30',\n",
       "   'period_end_on': '2017-09-30',\n",
       "   'period_start_on': '2016-10-01'},\n",
       "  'next_due': '2019-06-30',\n",
       "  'accounting_reference_date': {'month': '09', 'day': '30'}},\n",
       " 'sic_codes': ['68209'],\n",
       " 'has_been_liquidated': False,\n",
       " 'undeliverable_registered_office_address': False,\n",
       " 'last_full_members_list_date': '2016-04-23',\n",
       " 'company_name': 'JOHN CORY AND SONS LIMITED',\n",
       " 'registered_office_address': {'address_line_2': 'St. Brides-Super-Ely',\n",
       "  'locality': 'Cardiff',\n",
       "  'postal_code': 'CF5 6HE',\n",
       "  'address_line_1': '1 Porth Cottages'},\n",
       " 'type': 'ltd',\n",
       " 'date_of_creation': '1898-12-24',\n",
       " 'jurisdiction': 'england-wales',\n",
       " 'company_number': '00060066',\n",
       " 'etag': 'f5ba6fe7dd1d42115a2445ff43f40dfe68249ba7',\n",
       " 'company_status': 'active',\n",
       " 'has_insolvency_history': False,\n",
       " 'has_charges': True,\n",
       " 'confirmation_statement': {'overdue': False,\n",
       "  'next_due': '2019-05-07',\n",
       "  'last_made_up_to': '2018-04-23',\n",
       "  'next_made_up_to': '2019-04-23'},\n",
       " 'links': {'self': '/company/00060066',\n",
       "  'filing_history': '/company/00060066/filing-history',\n",
       "  'officers': '/company/00060066/officers',\n",
       "  'charges': '/company/00060066/charges',\n",
       "  'persons_with_significant_control_statements': '/company/00060066/persons-with-significant-control-statements'},\n",
       " 'registered_office_is_in_dispute': False,\n",
       " 'can_file': True}"
      ]
     },
     "execution_count": 15,
     "metadata": {},
     "output_type": "execute_result"
    }
   ],
   "source": [
    "company"
   ]
  },
  {
   "cell_type": "code",
   "execution_count": null,
   "metadata": {},
   "outputs": [],
   "source": []
  }
 ],
 "metadata": {
  "kernelspec": {
   "display_name": "Python 3",
   "language": "python",
   "name": "python3"
  },
  "language_info": {
   "codemirror_mode": {
    "name": "ipython",
    "version": 3
   },
   "file_extension": ".py",
   "mimetype": "text/x-python",
   "name": "python",
   "nbconvert_exporter": "python",
   "pygments_lexer": "ipython3",
   "version": "3.6.6"
  }
 },
 "nbformat": 4,
 "nbformat_minor": 2
}
